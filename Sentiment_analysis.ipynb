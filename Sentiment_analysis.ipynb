{
  "nbformat": 4,
  "nbformat_minor": 0,
  "metadata": {
    "colab": {
      "provenance": [],
      "authorship_tag": "ABX9TyPxNdjpkVvfGWogjBTJz6yT"
    },
    "kernelspec": {
      "name": "python3",
      "display_name": "Python 3"
    },
    "language_info": {
      "name": "python"
    }
  },
  "cells": [
    {
      "cell_type": "markdown",
      "source": [
        "IMPORTING LIBRARIES AND DATASET\n"
      ],
      "metadata": {
        "id": "X-DWzXp78s-0"
      }
    },
    {
      "cell_type": "code",
      "source": [
        "import numpy as np\n",
        "import pandas as pd\n",
        "import matplotlib.pyplot as plt\n",
        "from dateutil import tz"
      ],
      "metadata": {
        "id": "BL5dj-_SHjGL"
      },
      "execution_count": null,
      "outputs": []
    },
    {
      "cell_type": "code",
      "source": [
        "import os\n",
        "os.environ['KAGGLE_USERNAME'] = \"aayushmaantawer\"\n",
        "os.environ['KAGGLE_KEY'] = \"\"\n",
        "!kaggle datasets download -d kazanova/sentiment140"
      ],
      "metadata": {
        "id": "T2zOBvIpnbcE",
        "colab": {
          "base_uri": "https://localhost:8080/"
        },
        "outputId": "3632dc20-2fb0-4bd9-af8a-7160531bad33"
      },
      "execution_count": null,
      "outputs": [
        {
          "output_type": "stream",
          "name": "stdout",
          "text": [
            "Dataset URL: https://www.kaggle.com/datasets/kazanova/sentiment140\n",
            "License(s): other\n",
            "Downloading sentiment140.zip to /content\n",
            " 88% 71.0M/80.9M [00:00<00:00, 253MB/s]\n",
            "100% 80.9M/80.9M [00:00<00:00, 249MB/s]\n"
          ]
        }
      ]
    },
    {
      "cell_type": "code",
      "source": [
        "!unzip sentiment140.zip"
      ],
      "metadata": {
        "colab": {
          "base_uri": "https://localhost:8080/"
        },
        "id": "JCXnf_FknpiV",
        "outputId": "e7f1c663-63d5-4c6e-b14d-acd827ef26c9"
      },
      "execution_count": null,
      "outputs": [
        {
          "output_type": "stream",
          "name": "stdout",
          "text": [
            "Archive:  sentiment140.zip\n",
            "  inflating: training.1600000.processed.noemoticon.csv  \n"
          ]
        }
      ]
    },
    {
      "cell_type": "code",
      "source": [
        "!wget https://www.dropbox.com/s/ymqktkwfstigvxn/training.1600000.processed.noemoticon%5B1%5D.csv?dl=0"
      ],
      "metadata": {
        "colab": {
          "base_uri": "https://localhost:8080/"
        },
        "id": "pWPIiq8LHqvi",
        "outputId": "aef0acf0-369b-429f-f6bf-8c9ca136a4a9"
      },
      "execution_count": null,
      "outputs": [
        {
          "output_type": "stream",
          "name": "stdout",
          "text": [
            "--2024-05-06 14:55:32--  https://www.dropbox.com/s/ymqktkwfstigvxn/training.1600000.processed.noemoticon%5B1%5D.csv?dl=0\n",
            "Resolving www.dropbox.com (www.dropbox.com)... 162.125.1.18, 2620:100:6016:18::a27d:112\n",
            "Connecting to www.dropbox.com (www.dropbox.com)|162.125.1.18|:443... connected.\n",
            "HTTP request sent, awaiting response... 302 Found\n",
            "Location: /s/raw/ymqktkwfstigvxn/training.1600000.processed.noemoticon%5B1%5D.csv [following]\n",
            "--2024-05-06 14:55:32--  https://www.dropbox.com/s/raw/ymqktkwfstigvxn/training.1600000.processed.noemoticon%5B1%5D.csv\n",
            "Reusing existing connection to www.dropbox.com:443.\n",
            "HTTP request sent, awaiting response... 302 Found\n",
            "Location: https://uc0398fb86602c099253167c8468.dl.dropboxusercontent.com/cd/0/inline/CSby361Q665V3e7ZGapnBGOHEVUzsMRJhgmTOrM-aj9_uoWiwVCb3vVLlproUvaspPCR3KS0ZiLQEcLWNF0WqybhTATTKH2sCSJUT8Tnavc39JDVxs_T2O7UWb_-inXP6Y4CpqHv5zu8F0Y8kPvsqqw6/file# [following]\n",
            "--2024-05-06 14:55:32--  https://uc0398fb86602c099253167c8468.dl.dropboxusercontent.com/cd/0/inline/CSby361Q665V3e7ZGapnBGOHEVUzsMRJhgmTOrM-aj9_uoWiwVCb3vVLlproUvaspPCR3KS0ZiLQEcLWNF0WqybhTATTKH2sCSJUT8Tnavc39JDVxs_T2O7UWb_-inXP6Y4CpqHv5zu8F0Y8kPvsqqw6/file\n",
            "Resolving uc0398fb86602c099253167c8468.dl.dropboxusercontent.com (uc0398fb86602c099253167c8468.dl.dropboxusercontent.com)... 162.125.1.15, 2620:100:6019:15::a27d:40f\n",
            "Connecting to uc0398fb86602c099253167c8468.dl.dropboxusercontent.com (uc0398fb86602c099253167c8468.dl.dropboxusercontent.com)|162.125.1.15|:443... connected.\n",
            "HTTP request sent, awaiting response... 200 OK\n",
            "Length: 238803811 (228M) [text/plain]\n",
            "Saving to: ‘training.1600000.processed.noemoticon[1].csv?dl=0’\n",
            "\n",
            "training.1600000.pr 100%[===================>] 227.74M   124MB/s    in 1.8s    \n",
            "\n",
            "2024-05-06 14:55:35 (124 MB/s) - ‘training.1600000.processed.noemoticon[1].csv?dl=0’ saved [238803811/238803811]\n",
            "\n"
          ]
        }
      ]
    },
    {
      "cell_type": "code",
      "execution_count": null,
      "metadata": {
        "colab": {
          "base_uri": "https://localhost:8080/"
        },
        "id": "aV-KQG9BjEhb",
        "outputId": "6452eb85-bef8-4bb3-9135-eb24f6dbb57d"
      },
      "outputs": [
        {
          "output_type": "stream",
          "name": "stdout",
          "text": [
            "         target         ids                          date      flag  \\\n",
            "0             0  1467810369  Mon Apr 06 22:19:45 PDT 2009  NO_QUERY   \n",
            "1             0  1467810672  Mon Apr 06 22:19:49 PDT 2009  NO_QUERY   \n",
            "2             0  1467810917  Mon Apr 06 22:19:53 PDT 2009  NO_QUERY   \n",
            "3             0  1467811184  Mon Apr 06 22:19:57 PDT 2009  NO_QUERY   \n",
            "4             0  1467811193  Mon Apr 06 22:19:57 PDT 2009  NO_QUERY   \n",
            "...         ...         ...                           ...       ...   \n",
            "1599995       4  2193601966  Tue Jun 16 08:40:49 PDT 2009  NO_QUERY   \n",
            "1599996       4  2193601969  Tue Jun 16 08:40:49 PDT 2009  NO_QUERY   \n",
            "1599997       4  2193601991  Tue Jun 16 08:40:49 PDT 2009  NO_QUERY   \n",
            "1599998       4  2193602064  Tue Jun 16 08:40:49 PDT 2009  NO_QUERY   \n",
            "1599999       4  2193602129  Tue Jun 16 08:40:50 PDT 2009  NO_QUERY   \n",
            "\n",
            "                    user                                               text  \n",
            "0        _TheSpecialOne_  @switchfoot http://twitpic.com/2y1zl - Awww, t...  \n",
            "1          scotthamilton  is upset that he can't update his Facebook by ...  \n",
            "2               mattycus  @Kenichan I dived many times for the ball. Man...  \n",
            "3                ElleCTF    my whole body feels itchy and like its on fire   \n",
            "4                 Karoli  @nationwideclass no, it's not behaving at all....  \n",
            "...                  ...                                                ...  \n",
            "1599995  AmandaMarie1028  Just woke up. Having no school is the best fee...  \n",
            "1599996      TheWDBoards  TheWDB.com - Very cool to hear old Walt interv...  \n",
            "1599997           bpbabe  Are you ready for your MoJo Makeover? Ask me f...  \n",
            "1599998     tinydiamondz  Happy 38th Birthday to my boo of alll time!!! ...  \n",
            "1599999   RyanTrevMorris  happy #charitytuesday @theNSPCC @SparksCharity...  \n",
            "\n",
            "[1600000 rows x 6 columns]\n"
          ]
        }
      ],
      "source": [
        "import pandas as pd\n",
        "import io\n",
        "#defining columns\n",
        "DATASET_COLUMNS = ['target', 'ids', 'date', 'flag', 'user', 'text']\n",
        "DATASET_ENCODING = \"ISO-8859-1\"\n",
        "pd.options.mode.chained_assignment = None  # default='warn'\n",
        "pd.options.display.max_columns = 100  # default=20\n",
        "# Reading the CSV file\n",
        "tsa = pd.read_csv('training.1600000.processed.noemoticon[1].csv?dl=0', engine='python', encoding=DATASET_ENCODING, names=DATASET_COLUMNS)\n",
        "\n",
        "# Display the DataFrame\n",
        "print(tsa)\n",
        "\n",
        "\n"
      ]
    }
  ]
}
